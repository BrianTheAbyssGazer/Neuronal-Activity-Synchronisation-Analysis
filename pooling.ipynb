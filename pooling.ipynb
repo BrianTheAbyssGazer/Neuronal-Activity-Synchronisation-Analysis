{
 "cells": [
  {
   "cell_type": "code",
   "execution_count": 1,
   "metadata": {},
   "outputs": [
    {
     "name": "stdout",
     "output_type": "stream",
     "text": [
      "torch.Size([1349, 270, 360])\n"
     ]
    }
   ],
   "source": [
    "from tifffile import imread,imwrite\n",
    "import torch\n",
    "import torch.nn.functional as F\n",
    "import numpy as np\n",
    "import matplotlib.pyplot as plt\n",
    "import pywt\n",
    "\n",
    "torch.cuda.empty_cache()\n",
    "video = torch.from_numpy(imread('sample1.tif').astype(np.float32)).to('cuda')\n",
    "# Apply average pooling\n",
    "video = F.avg_pool2d(video, kernel_size=4, stride=4)\n",
    "imwrite('pooled1.tif',video.to('cpu').numpy().astype(np.uint16))\n",
    "shape=video.shape\n",
    "print(shape)"
   ]
  }
 ],
 "metadata": {
  "kernelspec": {
   "display_name": "cv",
   "language": "python",
   "name": "python3"
  },
  "language_info": {
   "codemirror_mode": {
    "name": "ipython",
    "version": 3
   },
   "file_extension": ".py",
   "mimetype": "text/x-python",
   "name": "python",
   "nbconvert_exporter": "python",
   "pygments_lexer": "ipython3",
   "version": "3.12.2"
  }
 },
 "nbformat": 4,
 "nbformat_minor": 2
}
